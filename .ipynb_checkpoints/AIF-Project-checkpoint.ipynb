{
 "cells": [
  {
   "metadata": {
    "ExecuteTime": {
     "end_time": "2024-04-21T09:25:48.755599Z",
     "start_time": "2024-04-21T09:25:48.753665Z"
    }
   },
   "cell_type": "code",
   "source": [
    "import pandas as pd\n",
    "import matplotlib.pyplot as plt"
   ],
   "id": "95008dc15acdad84",
   "outputs": [],
   "execution_count": 13
  },
  {
   "metadata": {
    "ExecuteTime": {
     "end_time": "2024-04-21T09:23:16.084661Z",
     "start_time": "2024-04-21T09:23:15.448901Z"
    }
   },
   "cell_type": "code",
   "source": [
    "# read in stock price of all the indices from the 1-16th sheets from xlsx file, and the content start from the 4th row with 3rd row as header\n",
    "series = pd.read_excel('DailyClosing-SelectedIndices-2019to2023.xlsx', sheet_name=list(range(1, 17)), skiprows=2)"
   ],
   "id": "65e989e67d6a40b5",
   "outputs": [],
   "execution_count": 10
  },
  {
   "metadata": {
    "ExecuteTime": {
     "start_time": "2024-04-21T09:25:51.086208Z"
    }
   },
   "cell_type": "code",
   "source": [
    "# draw the picture of the stock price series changing over time, all the indices in one picture\n",
    "plt.plot(series[0]['Date'], series[0]['Close'])"
   ],
   "id": "8c39e92906a3ce0d",
   "outputs": [],
   "execution_count": null
  },
  {
   "metadata": {},
   "cell_type": "code",
   "outputs": [],
   "execution_count": null,
   "source": "# compute the VaR and CVaR of the stock price series\n",
   "id": "fafeb60e5b5a2998"
  }
 ],
 "metadata": {
  "kernelspec": {
   "display_name": "Python 3",
   "language": "python",
   "name": "python3"
  },
  "language_info": {
   "codemirror_mode": {
    "name": "ipython",
    "version": 2
   },
   "file_extension": ".py",
   "mimetype": "text/x-python",
   "name": "python",
   "nbconvert_exporter": "python",
   "pygments_lexer": "ipython2",
   "version": "2.7.6"
  }
 },
 "nbformat": 4,
 "nbformat_minor": 5
}
